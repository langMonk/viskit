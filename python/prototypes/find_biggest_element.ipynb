{
 "cells": [
  {
   "cell_type": "code",
   "execution_count": 1,
   "metadata": {
    "collapsed": true
   },
   "outputs": [],
   "source": [
    "import pandas as pd\n",
    "\n",
    "dataset = pd.read_csv('/Users/bartoszminch/Documents/Repositories/dataset_viskit/datasets/reuters_data.csv',\n",
    "                      header=None)\n",
    "labels = pd.read_csv('/Users/bartoszminch/Documents/Repositories/dataset_viskit/datasets/reuters_labels.csv',\n",
    "                     header=None)\n",
    "\n",
    "labels.columns = ['label']"
   ]
  },
  {
   "cell_type": "code",
   "execution_count": 2,
   "outputs": [
    {
     "data": {
      "text/plain": "[3, 8, 1, 7, 6, 24, 22, 26, 35, 11]"
     },
     "execution_count": 2,
     "metadata": {},
     "output_type": "execute_result"
    }
   ],
   "source": [
    "n = 10\n",
    "biggest_component_labels = labels['label'].value_counts()[:n].index.tolist()\n",
    "biggest_component_labels"
   ],
   "metadata": {
    "collapsed": false
   }
  },
  {
   "cell_type": "code",
   "execution_count": 3,
   "outputs": [],
   "source": [
    "final_dataset = pd.DataFrame()\n",
    "final_labels = pd.DataFrame()\n",
    "for label in biggest_component_labels:\n",
    "    dataset_for_label = dataset[labels['label'] == label]\n",
    "    labels_for_label = labels[labels['label'] == label]\n",
    "    final_dataset = pd.concat([final_dataset, dataset_for_label], axis=0)\n",
    "    final_labels = pd.concat([final_labels, labels_for_label], axis=0)"
   ],
   "metadata": {
    "collapsed": false
   }
  },
  {
   "cell_type": "code",
   "execution_count": 4,
   "outputs": [],
   "source": [
    "final_dataset.to_csv('/Users/bartoszminch/Documents/Repositories/dataset_viskit/datasets/reuters_largest_components_data.csv', index=False, header=False)\n",
    "final_labels.to_csv('/Users/bartoszminch/Documents/Repositories/dataset_viskit/datasets/reuters_largest_components_labels.csv', index=False, header=False)"
   ],
   "metadata": {
    "collapsed": false
   }
  }
 ],
 "metadata": {
  "kernelspec": {
   "display_name": "Python 3",
   "language": "python",
   "name": "python3"
  },
  "language_info": {
   "codemirror_mode": {
    "name": "ipython",
    "version": 2
   },
   "file_extension": ".py",
   "mimetype": "text/x-python",
   "name": "python",
   "nbconvert_exporter": "python",
   "pygments_lexer": "ipython2",
   "version": "2.7.6"
  }
 },
 "nbformat": 4,
 "nbformat_minor": 0
}
