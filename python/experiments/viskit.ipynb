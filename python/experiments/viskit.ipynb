{
 "cells": [
  {
   "cell_type": "code",
   "execution_count": 10,
   "outputs": [],
   "source": [
    "import base64\n",
    "from io import BytesIO\n",
    "\n",
    "from PIL import Image\n",
    "\n",
    "\n",
    "def embeddable_image(data):\n",
    "    img_data = 255 - 15 * data.astype(np.uint8)\n",
    "    image = Image.fromarray(img_data, mode='L').resize((64, 64), Image.BICUBIC)\n",
    "    buffer = BytesIO()\n",
    "    image.save(buffer, format='png')\n",
    "    for_encoding = buffer.getvalue()\n",
    "    return 'data:image/png;base64,' + base64.b64encode(for_encoding).decode()\n",
    "\n",
    "from bokeh.plotting import figure, show, output_notebook\n",
    "from bokeh.models import HoverTool, ColumnDataSource, CategoricalColorMapper\n",
    "from bokeh.palettes import Spectral10\n",
    "\n",
    "# output_notebook()"
   ],
   "metadata": {
    "collapsed": false,
    "pycharm": {
     "name": "#%%\n"
    }
   }
  },
  {
   "cell_type": "code",
   "execution_count": 13,
   "outputs": [
    {
     "name": "stdout",
     "output_type": "stream",
     "text": [
      "Generating kNN graph...\n",
      "Searching...\n",
      "Finished.\n",
      "b'[Info] [CSV Parser] Loading dataset from file: /Users/bartoszminch/Documents/Repositories/viskit/python/viskit/input_data.csv'\n",
      "b'[Info] [CSV Parser] Loading dataset from file: /Users/bartoszminch/Documents/Repositories/viskit/python/viskit/input_labels.csv'\n",
      "b'[Info] [CSV Parser] Labels file passed.'\n",
      "b'[Info] [CSV Parser] Dataset size: 1797'\n",
      "b'[Info] [CSV Parser] Dataset dimensionality: 64'\n",
      "b'[Info] [CSV Parser] Number of classes in dataset: 10'\n",
      "b'[Info] [CSV Parser] Finished.'\n",
      "b'[Info] [Graph] Loading graph from cache...'\n",
      "b'[Info] [Graph] Finished.'\n",
      "b'[Info] [kNN Generator] Determining random neighbors...'\n"
     ]
    },
    {
     "name": "stderr",
     "output_type": "stream",
     "text": [
      "0:00:00.006499\n"
     ]
    },
    {
     "name": "stdout",
     "output_type": "stream",
     "text": [
      "b'[Info] [kNN Generator] Finished.'\n",
      "b'[Info] [kNN Generator] Neighbors in graph: 19767'\n",
      "b'Step: 0'\n",
      "b'Step: 100'\n",
      "b'Step: 200'\n",
      "b'Step: 300'\n",
      "b'Step: 400'\n",
      "b'Step: 500'\n",
      "b'Step: 600'\n",
      "b'Step: 700'\n",
      "b'Step: 800'\n",
      "b'Step: 900'\n",
      "b'Step: 1000'\n",
      "b'Step: 1100'\n",
      "b'Step: 1200'\n",
      "b'Step: 1300'\n",
      "b'Step: 1400'\n",
      "b'Step: 1500'\n",
      "b'Step: 1600'\n",
      "b'Step: 1700'\n",
      "b'Step: 1800'\n",
      "b'Step: 1900'\n",
      "b'Step: 2000'\n",
      "b'Step: 2100'\n",
      "b'Step: 2200'\n",
      "b'Step: 2300'\n",
      "b'Step: 2400'\n",
      "b'Step: 2500'\n",
      "b'Step: 2600'\n",
      "b'Step: 2700'\n",
      "b'Step: 2800'\n",
      "b'Step: 2900'\n"
     ]
    }
   ],
   "source": [
    "from sklearn.datasets import load_digits\n",
    "from viskit.embedding.ivhd import Ivhd\n",
    "\n",
    "import pandas as pd\n",
    "\n",
    "digits = load_digits()\n",
    "\n",
    "mapper = Ivhd(\n",
    "    optimizer=\"force-directed\",\n",
    "    n_iter=3000,\n",
    "    nn=10,\n",
    "    rn=1,\n",
    "    l1_steps=0,\n",
    "    reverse_neighbors_steps=0,\n",
    "    reverse_neighbors_count=0,\n",
    ")\n",
    "\n",
    "# mapper = UMAP()\n",
    "embedding, neighbors = mapper.fit_transform(pd.DataFrame(digits.data), pd.DataFrame(digits.target))"
   ],
   "metadata": {
    "collapsed": false,
    "pycharm": {
     "name": "#%%\n"
    }
   }
  },
  {
   "cell_type": "code",
   "execution_count": 14,
   "outputs": [],
   "source": [
    "import numpy as np\n",
    "\n",
    "digits_df = pd.DataFrame(embedding, columns=('x', 'y'))\n",
    "digits_df['digit'] = [str(x) for x in digits.target]\n",
    "digits_df['image'] = list(map(embeddable_image, digits.images))\n",
    "digits_df['nn'] = [str(x) for x in neighbors[:,0]]\n",
    "digits_df['rn'] = [str(x) for x in neighbors[:,1]]\n",
    "\n",
    "datasource = ColumnDataSource(digits_df)\n",
    "color_mapping = CategoricalColorMapper(factors=[str(9 - x) for x in digits.target_names],\n",
    "                                       palette=Spectral10)\n",
    "\n",
    "plot_figure = figure(\n",
    "    title='IVHD projection of the Digits dataset',\n",
    "    plot_width=900,\n",
    "    plot_height=900,\n",
    "    tools='pan, wheel_zoom, reset'\n",
    ")\n",
    "\n",
    "plot_figure.add_tools(HoverTool(tooltips=\"\"\"\n",
    "<div>\n",
    "    <div>\n",
    "        <img src='@image' style='float: left; margin: 5px 5px 5px 5px'/>\n",
    "    </div>\n",
    "    <div>\n",
    "        <span style='font-size: 16px; color: #224499'><p>Digit: @digit</p></span>\n",
    "        <span style='font-size: 16px; color: #224499'><p>NN: @nn</p></span>\n",
    "        <span style='font-size: 16px; color: #224499'><p>RN: @rn</p></span>\n",
    "    </div>\n",
    "</div>\n",
    "\"\"\"))\n",
    "\n",
    "plot_figure.circle(\n",
    "    'x',\n",
    "    'y',\n",
    "    source=datasource,\n",
    "    color=dict(field='digit', transform=color_mapping),\n",
    "    line_alpha=0.6,\n",
    "    fill_alpha=0.6,\n",
    "    size=4\n",
    ")\n",
    "show(plot_figure)"
   ],
   "metadata": {
    "collapsed": false,
    "pycharm": {
     "name": "#%%\n"
    }
   }
  },
  {
   "cell_type": "code",
   "execution_count": 4,
   "outputs": [],
   "source": [],
   "metadata": {
    "collapsed": false,
    "pycharm": {
     "name": "#%%\n"
    }
   }
  }
 ],
 "metadata": {
  "kernelspec": {
   "display_name": "Python 3",
   "language": "python",
   "name": "python3"
  },
  "language_info": {
   "codemirror_mode": {
    "name": "ipython",
    "version": 2
   },
   "file_extension": ".py",
   "mimetype": "text/x-python",
   "name": "python",
   "nbconvert_exporter": "python",
   "pygments_lexer": "ipython2",
   "version": "2.7.6"
  }
 },
 "nbformat": 4,
 "nbformat_minor": 0
}